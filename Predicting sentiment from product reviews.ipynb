{
  "nbformat": 4,
  "nbformat_minor": 0,
  "metadata": {
    "colab": {
      "name": "Untitled1.ipynb",
      "provenance": []
    },
    "kernelspec": {
      "name": "python3",
      "display_name": "Python 3"
    },
    "language_info": {
      "name": "python"
    }
  },
  "cells": [
    {
      "cell_type": "code",
      "metadata": {
        "id": "XItM1or-ww7D"
      },
      "source": [
        "import pandas as pd\n",
        "import numpy as np"
      ],
      "execution_count": 11,
      "outputs": []
    },
    {
      "cell_type": "markdown",
      "metadata": {
        "id": "KOgMgJvdw7BA"
      },
      "source": [
        "\n",
        "Load Amazon dataset"
      ]
    },
    {
      "cell_type": "code",
      "metadata": {
        "id": "unEZM9eIwyMz"
      },
      "source": [
        "products = pd.read_csv('/content/amazon_baby.csv')"
      ],
      "execution_count": 12,
      "outputs": []
    },
    {
      "cell_type": "markdown",
      "metadata": {
        "id": "0Kuhl0znxCVA"
      },
      "source": [
        "Perform text cleaning"
      ]
    },
    {
      "cell_type": "code",
      "metadata": {
        "id": "p7T6XS9bw8L4"
      },
      "source": [
        "#We start by removing punctuation, so that words \"cake.\" and \"cake!\" are counted as the same word.\n",
        "products = products.fillna({'review':''})  # fill in N/A's in the review column"
      ],
      "execution_count": 15,
      "outputs": []
    },
    {
      "cell_type": "code",
      "metadata": {
        "id": "HDkwVNrnxGzk"
      },
      "source": [
        "def remove_punctuation(text):\n",
        "    import string\n",
        "    return text.translate(string.punctuation) \n",
        "products['review_clean'] = products['review'].apply(remove_punctuation)"
      ],
      "execution_count": 21,
      "outputs": []
    },
    {
      "cell_type": "code",
      "metadata": {
        "colab": {
          "base_uri": "https://localhost:8080/",
          "height": 289
        },
        "id": "T1mYRktKxbaL",
        "outputId": "7832ec40-2305-4cc8-fcb4-5c05ca49790f"
      },
      "source": [
        "products.head(5)"
      ],
      "execution_count": 22,
      "outputs": [
        {
          "output_type": "execute_result",
          "data": {
            "text/html": [
              "<div>\n",
              "<style scoped>\n",
              "    .dataframe tbody tr th:only-of-type {\n",
              "        vertical-align: middle;\n",
              "    }\n",
              "\n",
              "    .dataframe tbody tr th {\n",
              "        vertical-align: top;\n",
              "    }\n",
              "\n",
              "    .dataframe thead th {\n",
              "        text-align: right;\n",
              "    }\n",
              "</style>\n",
              "<table border=\"1\" class=\"dataframe\">\n",
              "  <thead>\n",
              "    <tr style=\"text-align: right;\">\n",
              "      <th></th>\n",
              "      <th>name</th>\n",
              "      <th>review</th>\n",
              "      <th>rating</th>\n",
              "      <th>review_clean</th>\n",
              "    </tr>\n",
              "  </thead>\n",
              "  <tbody>\n",
              "    <tr>\n",
              "      <th>1</th>\n",
              "      <td>Planetwise Wipe Pouch</td>\n",
              "      <td>it came early and was not disappointed. i love...</td>\n",
              "      <td>5</td>\n",
              "      <td>it came early and was not disappointed. i love...</td>\n",
              "    </tr>\n",
              "    <tr>\n",
              "      <th>2</th>\n",
              "      <td>Annas Dream Full Quilt with 2 Shams</td>\n",
              "      <td>Very soft and comfortable and warmer than it l...</td>\n",
              "      <td>5</td>\n",
              "      <td>Very soft and comfortable and warmer than it l...</td>\n",
              "    </tr>\n",
              "    <tr>\n",
              "      <th>3</th>\n",
              "      <td>Stop Pacifier Sucking without tears with Thumb...</td>\n",
              "      <td>This is a product well worth the purchase.  I ...</td>\n",
              "      <td>5</td>\n",
              "      <td>This is a product well worth the purchase.  I ...</td>\n",
              "    </tr>\n",
              "    <tr>\n",
              "      <th>4</th>\n",
              "      <td>Stop Pacifier Sucking without tears with Thumb...</td>\n",
              "      <td>All of my kids have cried non-stop when I trie...</td>\n",
              "      <td>5</td>\n",
              "      <td>All of my kids have cried non-stop when I trie...</td>\n",
              "    </tr>\n",
              "    <tr>\n",
              "      <th>5</th>\n",
              "      <td>Stop Pacifier Sucking without tears with Thumb...</td>\n",
              "      <td>When the Binky Fairy came to our house, we did...</td>\n",
              "      <td>5</td>\n",
              "      <td>When the Binky Fairy came to our house, we did...</td>\n",
              "    </tr>\n",
              "  </tbody>\n",
              "</table>\n",
              "</div>"
            ],
            "text/plain": [
              "                                                name  ...                                       review_clean\n",
              "1                              Planetwise Wipe Pouch  ...  it came early and was not disappointed. i love...\n",
              "2                Annas Dream Full Quilt with 2 Shams  ...  Very soft and comfortable and warmer than it l...\n",
              "3  Stop Pacifier Sucking without tears with Thumb...  ...  This is a product well worth the purchase.  I ...\n",
              "4  Stop Pacifier Sucking without tears with Thumb...  ...  All of my kids have cried non-stop when I trie...\n",
              "5  Stop Pacifier Sucking without tears with Thumb...  ...  When the Binky Fairy came to our house, we did...\n",
              "\n",
              "[5 rows x 4 columns]"
            ]
          },
          "metadata": {
            "tags": []
          },
          "execution_count": 22
        }
      ]
    },
    {
      "cell_type": "markdown",
      "metadata": {
        "id": "ZW_GaNJuyD2H"
      },
      "source": [
        "Extract Sentiments"
      ]
    },
    {
      "cell_type": "code",
      "metadata": {
        "id": "39hD-d4pxp-o"
      },
      "source": [
        "#We will ignore all reviews with rating = 3, since they tend to have a neutral sentiment.\n",
        "products = products[products['rating'] != 3]"
      ],
      "execution_count": 20,
      "outputs": []
    },
    {
      "cell_type": "markdown",
      "metadata": {
        "id": "iIJuxKcKzTgH"
      },
      "source": [
        "Now, we will assign reviews with a rating of 4 or higher to be positive reviews, while the ones with rating of 2 or lower are negative. For the sentiment column, we use +1 for the positive class label and -1 for the negative class label. A good way is to create an anonymous function that converts a rating into a class label and then apply that function to every element in the rating column. In SFrame, you would use apply():"
      ]
    },
    {
      "cell_type": "code",
      "metadata": {
        "id": "Nw2sDcXDyFKX"
      },
      "source": [
        "products['sentiment'] = products['rating'].apply(lambda rating : +1 if rating > 3 else -1)"
      ],
      "execution_count": 23,
      "outputs": []
    },
    {
      "cell_type": "code",
      "metadata": {
        "colab": {
          "base_uri": "https://localhost:8080/",
          "height": 193
        },
        "id": "naW_-rQWyM57",
        "outputId": "f1e9da9b-a2f6-4bb9-89db-7b75643838f6"
      },
      "source": [
        "products.head(3)"
      ],
      "execution_count": 24,
      "outputs": [
        {
          "output_type": "execute_result",
          "data": {
            "text/html": [
              "<div>\n",
              "<style scoped>\n",
              "    .dataframe tbody tr th:only-of-type {\n",
              "        vertical-align: middle;\n",
              "    }\n",
              "\n",
              "    .dataframe tbody tr th {\n",
              "        vertical-align: top;\n",
              "    }\n",
              "\n",
              "    .dataframe thead th {\n",
              "        text-align: right;\n",
              "    }\n",
              "</style>\n",
              "<table border=\"1\" class=\"dataframe\">\n",
              "  <thead>\n",
              "    <tr style=\"text-align: right;\">\n",
              "      <th></th>\n",
              "      <th>name</th>\n",
              "      <th>review</th>\n",
              "      <th>rating</th>\n",
              "      <th>review_clean</th>\n",
              "      <th>sentiment</th>\n",
              "    </tr>\n",
              "  </thead>\n",
              "  <tbody>\n",
              "    <tr>\n",
              "      <th>1</th>\n",
              "      <td>Planetwise Wipe Pouch</td>\n",
              "      <td>it came early and was not disappointed. i love...</td>\n",
              "      <td>5</td>\n",
              "      <td>it came early and was not disappointed. i love...</td>\n",
              "      <td>1</td>\n",
              "    </tr>\n",
              "    <tr>\n",
              "      <th>2</th>\n",
              "      <td>Annas Dream Full Quilt with 2 Shams</td>\n",
              "      <td>Very soft and comfortable and warmer than it l...</td>\n",
              "      <td>5</td>\n",
              "      <td>Very soft and comfortable and warmer than it l...</td>\n",
              "      <td>1</td>\n",
              "    </tr>\n",
              "    <tr>\n",
              "      <th>3</th>\n",
              "      <td>Stop Pacifier Sucking without tears with Thumb...</td>\n",
              "      <td>This is a product well worth the purchase.  I ...</td>\n",
              "      <td>5</td>\n",
              "      <td>This is a product well worth the purchase.  I ...</td>\n",
              "      <td>1</td>\n",
              "    </tr>\n",
              "  </tbody>\n",
              "</table>\n",
              "</div>"
            ],
            "text/plain": [
              "                                                name  ... sentiment\n",
              "1                              Planetwise Wipe Pouch  ...         1\n",
              "2                Annas Dream Full Quilt with 2 Shams  ...         1\n",
              "3  Stop Pacifier Sucking without tears with Thumb...  ...         1\n",
              "\n",
              "[3 rows x 5 columns]"
            ]
          },
          "metadata": {
            "tags": []
          },
          "execution_count": 24
        }
      ]
    },
    {
      "cell_type": "markdown",
      "metadata": {
        "id": "SD6ayFRszjAO"
      },
      "source": [
        "Split into training and test sets\n"
      ]
    },
    {
      "cell_type": "code",
      "metadata": {
        "colab": {
          "base_uri": "https://localhost:8080/"
        },
        "id": "uKDvRUIcyWfD",
        "outputId": "13e03c7c-5166-4759-9fb0-735d3c34c67e"
      },
      "source": [
        "#Let's perform a train/test split with 80% of the data in the training set and 20% of the data in the test set.\n",
        "import json\n",
        "with open('/content/module-2-assignment-test-idx.json') as test_data_file:    \n",
        "    test_data_idx = json.load(test_data_file)\n",
        "with open('/content/module-2-assignment-train-idx.json') as train_data_file:    \n",
        "    train_data_idx = json.load(train_data_file)\n",
        "\n",
        "print (train_data_idx[:3])\n",
        "print (test_data_idx[:3])"
      ],
      "execution_count": 27,
      "outputs": [
        {
          "output_type": "stream",
          "text": [
            "[0, 1, 2]\n",
            "[8, 9, 14]\n"
          ],
          "name": "stdout"
        }
      ]
    },
    {
      "cell_type": "code",
      "metadata": {
        "colab": {
          "base_uri": "https://localhost:8080/",
          "height": 145
        },
        "id": "lqY95InQy9EF",
        "outputId": "51887862-7a6c-4ab1-8fc2-1500dac672ed"
      },
      "source": [
        "train_data = products.iloc[train_data_idx]\n",
        "train_data.head(2)"
      ],
      "execution_count": 28,
      "outputs": [
        {
          "output_type": "execute_result",
          "data": {
            "text/html": [
              "<div>\n",
              "<style scoped>\n",
              "    .dataframe tbody tr th:only-of-type {\n",
              "        vertical-align: middle;\n",
              "    }\n",
              "\n",
              "    .dataframe tbody tr th {\n",
              "        vertical-align: top;\n",
              "    }\n",
              "\n",
              "    .dataframe thead th {\n",
              "        text-align: right;\n",
              "    }\n",
              "</style>\n",
              "<table border=\"1\" class=\"dataframe\">\n",
              "  <thead>\n",
              "    <tr style=\"text-align: right;\">\n",
              "      <th></th>\n",
              "      <th>name</th>\n",
              "      <th>review</th>\n",
              "      <th>rating</th>\n",
              "      <th>review_clean</th>\n",
              "      <th>sentiment</th>\n",
              "    </tr>\n",
              "  </thead>\n",
              "  <tbody>\n",
              "    <tr>\n",
              "      <th>1</th>\n",
              "      <td>Planetwise Wipe Pouch</td>\n",
              "      <td>it came early and was not disappointed. i love...</td>\n",
              "      <td>5</td>\n",
              "      <td>it came early and was not disappointed. i love...</td>\n",
              "      <td>1</td>\n",
              "    </tr>\n",
              "    <tr>\n",
              "      <th>2</th>\n",
              "      <td>Annas Dream Full Quilt with 2 Shams</td>\n",
              "      <td>Very soft and comfortable and warmer than it l...</td>\n",
              "      <td>5</td>\n",
              "      <td>Very soft and comfortable and warmer than it l...</td>\n",
              "      <td>1</td>\n",
              "    </tr>\n",
              "  </tbody>\n",
              "</table>\n",
              "</div>"
            ],
            "text/plain": [
              "                                  name  ... sentiment\n",
              "1                Planetwise Wipe Pouch  ...         1\n",
              "2  Annas Dream Full Quilt with 2 Shams  ...         1\n",
              "\n",
              "[2 rows x 5 columns]"
            ]
          },
          "metadata": {
            "tags": []
          },
          "execution_count": 28
        }
      ]
    },
    {
      "cell_type": "code",
      "metadata": {
        "colab": {
          "base_uri": "https://localhost:8080/",
          "height": 145
        },
        "id": "SQvr3b60zZpN",
        "outputId": "35366b2f-ec4e-4be2-c9d9-e9b2dd2ab3bf"
      },
      "source": [
        "test_data = products.iloc[test_data_idx]\n",
        "test_data.head(2)"
      ],
      "execution_count": 29,
      "outputs": [
        {
          "output_type": "execute_result",
          "data": {
            "text/html": [
              "<div>\n",
              "<style scoped>\n",
              "    .dataframe tbody tr th:only-of-type {\n",
              "        vertical-align: middle;\n",
              "    }\n",
              "\n",
              "    .dataframe tbody tr th {\n",
              "        vertical-align: top;\n",
              "    }\n",
              "\n",
              "    .dataframe thead th {\n",
              "        text-align: right;\n",
              "    }\n",
              "</style>\n",
              "<table border=\"1\" class=\"dataframe\">\n",
              "  <thead>\n",
              "    <tr style=\"text-align: right;\">\n",
              "      <th></th>\n",
              "      <th>name</th>\n",
              "      <th>review</th>\n",
              "      <th>rating</th>\n",
              "      <th>review_clean</th>\n",
              "      <th>sentiment</th>\n",
              "    </tr>\n",
              "  </thead>\n",
              "  <tbody>\n",
              "    <tr>\n",
              "      <th>9</th>\n",
              "      <td>Baby Tracker&amp;reg; - Daily Childcare Journal, S...</td>\n",
              "      <td>This has been an easy way for my nanny to reco...</td>\n",
              "      <td>4</td>\n",
              "      <td>This has been an easy way for my nanny to reco...</td>\n",
              "      <td>1</td>\n",
              "    </tr>\n",
              "    <tr>\n",
              "      <th>10</th>\n",
              "      <td>Baby Tracker&amp;reg; - Daily Childcare Journal, S...</td>\n",
              "      <td>I love this journal and our nanny uses it ever...</td>\n",
              "      <td>4</td>\n",
              "      <td>I love this journal and our nanny uses it ever...</td>\n",
              "      <td>1</td>\n",
              "    </tr>\n",
              "  </tbody>\n",
              "</table>\n",
              "</div>"
            ],
            "text/plain": [
              "                                                 name  ... sentiment\n",
              "9   Baby Tracker&reg; - Daily Childcare Journal, S...  ...         1\n",
              "10  Baby Tracker&reg; - Daily Childcare Journal, S...  ...         1\n",
              "\n",
              "[2 rows x 5 columns]"
            ]
          },
          "metadata": {
            "tags": []
          },
          "execution_count": 29
        }
      ]
    },
    {
      "cell_type": "markdown",
      "metadata": {
        "id": "y6oGbVCh0CyM"
      },
      "source": [
        "Build the word count vector for each review\n",
        "\n",
        "We will now compute the word count for each word that appears in the reviews. A vector consisting of word counts is often referred to as bag-of-word features. Since most words occur in only a few reviews, word count vectors are sparse. For this reason, scikit-learn and many other tools use sparse matrices to store a collection of word count vectors. Refer to appropriate manuals to produce sparse word count vectors. General steps for extracting word count vectors are as follows:\n",
        "\n",
        "Learn a vocabulary (set of all words) from the training data. Only the words that show up in the training data will be considered for feature extraction.\n",
        "\n",
        "Compute the occurrences of the words in each review and collect them into a row vector.\n",
        "\n",
        "Build a sparse matrix where each row is the word count vector for the corresponding review. Call this matrix train_matrix.\n",
        "\n",
        "Using the same mapping between words and columns, convert the test data into a sparse matrix test_matrix."
      ]
    },
    {
      "cell_type": "code",
      "metadata": {
        "id": "oPkaJSlRz0UQ"
      },
      "source": [
        "from sklearn.feature_extraction.text import CountVectorizer\n",
        "\n",
        "vectorizer = CountVectorizer(token_pattern=r'\\b\\w+\\b')\n",
        "     # Use this token pattern to keep single-letter words\n",
        "# First, learn vocabulary from the training data and assign columns to words\n",
        "# Then convert the training data into a sparse matrix\n",
        "train_matrix = vectorizer.fit_transform(train_data['review_clean'])\n",
        "# Second, convert the test data into a sparse matrix, using the same word-column mapping\n",
        "test_matrix = vectorizer.transform(test_data['review_clean'])\n",
        "#print vectorizer.vocabulary_"
      ],
      "execution_count": 30,
      "outputs": []
    },
    {
      "cell_type": "markdown",
      "metadata": {
        "id": "I_yHlkkf0Xgf"
      },
      "source": [
        "Train a sentiment classifier with logistic regression\n",
        "\n",
        "Learn a logistic regression classifier using the training data. If you are using scikit-learn, you should create an instance of the LogisticRegression class and then call the method fit() to train the classifier. This model should use the sparse word count matrix (train_matrix) as features and the column sentiment of train_data as the target. Use the default values for other parameters. Call this model sentiment_model."
      ]
    },
    {
      "cell_type": "code",
      "metadata": {
        "colab": {
          "base_uri": "https://localhost:8080/"
        },
        "id": "LCZI1k7w0M8e",
        "outputId": "429f8dea-83dc-47c9-98ab-e35f17768584"
      },
      "source": [
        "from sklearn.linear_model import LogisticRegression\n",
        "sentiment_model = LogisticRegression()\n",
        "sentiment_model.fit(train_matrix, train_data['sentiment'])"
      ],
      "execution_count": 31,
      "outputs": [
        {
          "output_type": "stream",
          "text": [
            "/usr/local/lib/python3.7/dist-packages/sklearn/linear_model/_logistic.py:940: ConvergenceWarning: lbfgs failed to converge (status=1):\n",
            "STOP: TOTAL NO. of ITERATIONS REACHED LIMIT.\n",
            "\n",
            "Increase the number of iterations (max_iter) or scale the data as shown in:\n",
            "    https://scikit-learn.org/stable/modules/preprocessing.html\n",
            "Please also refer to the documentation for alternative solver options:\n",
            "    https://scikit-learn.org/stable/modules/linear_model.html#logistic-regression\n",
            "  extra_warning_msg=_LOGISTIC_SOLVER_CONVERGENCE_MSG)\n"
          ],
          "name": "stderr"
        },
        {
          "output_type": "execute_result",
          "data": {
            "text/plain": [
              "LogisticRegression(C=1.0, class_weight=None, dual=False, fit_intercept=True,\n",
              "                   intercept_scaling=1, l1_ratio=None, max_iter=100,\n",
              "                   multi_class='auto', n_jobs=None, penalty='l2',\n",
              "                   random_state=None, solver='lbfgs', tol=0.0001, verbose=0,\n",
              "                   warm_start=False)"
            ]
          },
          "metadata": {
            "tags": []
          },
          "execution_count": 31
        }
      ]
    },
    {
      "cell_type": "code",
      "metadata": {
        "colab": {
          "base_uri": "https://localhost:8080/"
        },
        "id": "WzD5nHp30gZD",
        "outputId": "530fc653-6e5b-4b53-a2cd-808ce67a8724"
      },
      "source": [
        "np.sum(sentiment_model.coef_ >= 0)"
      ],
      "execution_count": 32,
      "outputs": [
        {
          "output_type": "execute_result",
          "data": {
            "text/plain": [
              "40075"
            ]
          },
          "metadata": {
            "tags": []
          },
          "execution_count": 32
        }
      ]
    },
    {
      "cell_type": "markdown",
      "metadata": {
        "id": "Y-4n58Ni03ER"
      },
      "source": [
        "Making predictions with logistic regression"
      ]
    },
    {
      "cell_type": "code",
      "metadata": {
        "colab": {
          "base_uri": "https://localhost:8080/"
        },
        "id": "p0SsMIhy0xxj",
        "outputId": "7537b4fe-5608-47f1-c551-432c5ab6dbe7"
      },
      "source": [
        "sample_test_data = test_data.iloc[10:13]\n",
        "print (sample_test_data)"
      ],
      "execution_count": 34,
      "outputs": [
        {
          "output_type": "stream",
          "text": [
            "                                                 name  ... sentiment\n",
            "59                          Our Baby Girl Memory Book  ...         1\n",
            "71  Wall Decor Removable Decal Sticker - Colorful ...  ...        -1\n",
            "91  New Style Trailing Cherry Blossom Tree Decal R...  ...        -1\n",
            "\n",
            "[3 rows x 5 columns]\n"
          ],
          "name": "stdout"
        }
      ]
    },
    {
      "cell_type": "code",
      "metadata": {
        "colab": {
          "base_uri": "https://localhost:8080/",
          "height": 52
        },
        "id": "1qYyHONP06fE",
        "outputId": "aaf60623-5288-4ddc-df53-125caa07c2bf"
      },
      "source": [
        "sample_test_data.iloc[0]['review']"
      ],
      "execution_count": 35,
      "outputs": [
        {
          "output_type": "execute_result",
          "data": {
            "application/vnd.google.colaboratory.intrinsic+json": {
              "type": "string"
            },
            "text/plain": [
              "'Absolutely love it and all of the Scripture in it.  I purchased the Baby Boy version for my grandson when he was born and my daughter-in-law was thrilled to receive the same book again.'"
            ]
          },
          "metadata": {
            "tags": []
          },
          "execution_count": 35
        }
      ]
    },
    {
      "cell_type": "code",
      "metadata": {
        "colab": {
          "base_uri": "https://localhost:8080/",
          "height": 52
        },
        "id": "sBXU-fS90_xN",
        "outputId": "13a0a5a0-c0c8-4e77-ce10-a7dddd158816"
      },
      "source": [
        "sample_test_data.iloc[1]['review']"
      ],
      "execution_count": 36,
      "outputs": [
        {
          "output_type": "execute_result",
          "data": {
            "application/vnd.google.colaboratory.intrinsic+json": {
              "type": "string"
            },
            "text/plain": [
              "'Would not purchase again or recommend. The decals were thick almost plastic like and were coming off the wall as I was applying them! The would NOT stick! Literally stayed stuck for about 5 minutes then started peeling off.'"
            ]
          },
          "metadata": {
            "tags": []
          },
          "execution_count": 36
        }
      ]
    },
    {
      "cell_type": "code",
      "metadata": {
        "colab": {
          "base_uri": "https://localhost:8080/"
        },
        "id": "cLhEEuPm1E2A",
        "outputId": "59fd957a-5a98-4734-c278-8e53098f103d"
      },
      "source": [
        "sample_test_matrix = vectorizer.transform(sample_test_data['review_clean'])\n",
        "scores = sentiment_model.decision_function(sample_test_matrix)\n",
        "print (scores)\n",
        "\n",
        "print (sentiment_model.predict(sample_test_matrix))"
      ],
      "execution_count": 38,
      "outputs": [
        {
          "output_type": "stream",
          "text": [
            "[  5.23042889  -3.0298181  -11.01522803]\n",
            "[ 1 -1 -1]\n"
          ],
          "name": "stdout"
        }
      ]
    },
    {
      "cell_type": "markdown",
      "metadata": {
        "id": "jLao2sg71U4i"
      },
      "source": [
        "Probability Predictions"
      ]
    },
    {
      "cell_type": "code",
      "metadata": {
        "colab": {
          "base_uri": "https://localhost:8080/"
        },
        "id": "QfoWPeSn1VpG",
        "outputId": "6f77287b-7592-4f92-c039-6e5bb195eb40"
      },
      "source": [
        "print ([1./(1+np.exp(-x)) for x in scores])"
      ],
      "execution_count": 40,
      "outputs": [
        {
          "output_type": "stream",
          "text": [
            "[0.9946772535022802, 0.04609682504841702, 1.6449022940204537e-05]\n"
          ],
          "name": "stdout"
        }
      ]
    },
    {
      "cell_type": "code",
      "metadata": {
        "colab": {
          "base_uri": "https://localhost:8080/"
        },
        "id": "ZYmuRtVH1dYK",
        "outputId": "fd83829e-dde5-4a5b-98d7-556f21806484"
      },
      "source": [
        "print (sentiment_model.classes_)\n",
        "print (sentiment_model.predict_proba(sample_test_matrix))"
      ],
      "execution_count": 41,
      "outputs": [
        {
          "output_type": "stream",
          "text": [
            "[-1  1]\n",
            "[[5.32274650e-03 9.94677254e-01]\n",
            " [9.53903175e-01 4.60968250e-02]\n",
            " [9.99983551e-01 1.64490229e-05]]\n"
          ],
          "name": "stdout"
        }
      ]
    },
    {
      "cell_type": "code",
      "metadata": {
        "colab": {
          "base_uri": "https://localhost:8080/",
          "height": 1000
        },
        "id": "8bcJjwBB1kk9",
        "outputId": "0d005333-51a3-4ab3-81a4-9de9b13f03fa"
      },
      "source": [
        "#20 most positive reviews\n",
        "test_scores = sentiment_model.decision_function(test_matrix)\n",
        "positive_idx = np.argsort(-test_scores)[:20]\n",
        "print (positive_idx)\n",
        "print (test_scores[positive_idx[0]])\n",
        "test_data.iloc[positive_idx]"
      ],
      "execution_count": 43,
      "outputs": [
        {
          "output_type": "stream",
          "text": [
            "[30634 18112 15732 25554  9555 21531 17558 11923 24899 24286 33060 30297\n",
            " 21203 20743  2570 26830 16502 30076  9125 27048]\n",
            "47.01454533421485\n"
          ],
          "name": "stdout"
        },
        {
          "output_type": "execute_result",
          "data": {
            "text/html": [
              "<div>\n",
              "<style scoped>\n",
              "    .dataframe tbody tr th:only-of-type {\n",
              "        vertical-align: middle;\n",
              "    }\n",
              "\n",
              "    .dataframe tbody tr th {\n",
              "        vertical-align: top;\n",
              "    }\n",
              "\n",
              "    .dataframe thead th {\n",
              "        text-align: right;\n",
              "    }\n",
              "</style>\n",
              "<table border=\"1\" class=\"dataframe\">\n",
              "  <thead>\n",
              "    <tr style=\"text-align: right;\">\n",
              "      <th></th>\n",
              "      <th>name</th>\n",
              "      <th>review</th>\n",
              "      <th>rating</th>\n",
              "      <th>review_clean</th>\n",
              "      <th>sentiment</th>\n",
              "    </tr>\n",
              "  </thead>\n",
              "  <tbody>\n",
              "    <tr>\n",
              "      <th>168697</th>\n",
              "      <td>Graco FastAction Fold Jogger Click Connect Str...</td>\n",
              "      <td>Graco's FastAction Jogging Stroller definitely...</td>\n",
              "      <td>5</td>\n",
              "      <td>Graco's FastAction Jogging Stroller definitely...</td>\n",
              "      <td>1</td>\n",
              "    </tr>\n",
              "    <tr>\n",
              "      <th>100166</th>\n",
              "      <td>Infantino Wrap and Tie Baby Carrier, Black Blu...</td>\n",
              "      <td>I bought this carrier when my daughter was abo...</td>\n",
              "      <td>5</td>\n",
              "      <td>I bought this carrier when my daughter was abo...</td>\n",
              "      <td>1</td>\n",
              "    </tr>\n",
              "    <tr>\n",
              "      <th>87017</th>\n",
              "      <td>Baby Einstein Around The World Discovery Center</td>\n",
              "      <td>I am so HAPPY I brought this item for my 7 mon...</td>\n",
              "      <td>5</td>\n",
              "      <td>I am so HAPPY I brought this item for my 7 mon...</td>\n",
              "      <td>1</td>\n",
              "    </tr>\n",
              "    <tr>\n",
              "      <th>140816</th>\n",
              "      <td>Diono RadianRXT Convertible Car Seat, Plum</td>\n",
              "      <td>I bought this seat for my tall (38in) and thin...</td>\n",
              "      <td>5</td>\n",
              "      <td>I bought this seat for my tall (38in) and thin...</td>\n",
              "      <td>1</td>\n",
              "    </tr>\n",
              "    <tr>\n",
              "      <th>52631</th>\n",
              "      <td>Evenflo X Sport Plus Convenience Stroller - Ch...</td>\n",
              "      <td>After seeing this in Parent's Magazine and rea...</td>\n",
              "      <td>5</td>\n",
              "      <td>After seeing this in Parent's Magazine and rea...</td>\n",
              "      <td>1</td>\n",
              "    </tr>\n",
              "    <tr>\n",
              "      <th>119182</th>\n",
              "      <td>Roan Rocco Classic Pram Stroller 2-in-1 with B...</td>\n",
              "      <td>Great Pram Rocco!!!!!!I bought this pram from ...</td>\n",
              "      <td>5</td>\n",
              "      <td>Great Pram Rocco!!!!!!I bought this pram from ...</td>\n",
              "      <td>1</td>\n",
              "    </tr>\n",
              "    <tr>\n",
              "      <th>97325</th>\n",
              "      <td>Freemie Hands-Free Concealable Breast Pump Col...</td>\n",
              "      <td>I absolutely love this product.  I work as a C...</td>\n",
              "      <td>5</td>\n",
              "      <td>I absolutely love this product.  I work as a C...</td>\n",
              "      <td>1</td>\n",
              "    </tr>\n",
              "    <tr>\n",
              "      <th>66059</th>\n",
              "      <td>Evenflo 6 Pack Classic Glass Bottle, 4-Ounce</td>\n",
              "      <td>It's always fun to write a review on those pro...</td>\n",
              "      <td>5</td>\n",
              "      <td>It's always fun to write a review on those pro...</td>\n",
              "      <td>1</td>\n",
              "    </tr>\n",
              "    <tr>\n",
              "      <th>137034</th>\n",
              "      <td>Graco Pack 'n Play Element Playard - Flint</td>\n",
              "      <td>My husband and I assembled this Pack n' Play l...</td>\n",
              "      <td>4</td>\n",
              "      <td>My husband and I assembled this Pack n' Play l...</td>\n",
              "      <td>1</td>\n",
              "    </tr>\n",
              "    <tr>\n",
              "      <th>133651</th>\n",
              "      <td>Britax 2012 B-Agile Stroller, Red</td>\n",
              "      <td>[I got this stroller for my daughter prior to ...</td>\n",
              "      <td>4</td>\n",
              "      <td>[I got this stroller for my daughter prior to ...</td>\n",
              "      <td>1</td>\n",
              "    </tr>\n",
              "    <tr>\n",
              "      <th>182089</th>\n",
              "      <td>Summer Infant Wide View Digital Color Video Mo...</td>\n",
              "      <td>I love this baby monitor.  I can compare this ...</td>\n",
              "      <td>5</td>\n",
              "      <td>I love this baby monitor.  I can compare this ...</td>\n",
              "      <td>1</td>\n",
              "    </tr>\n",
              "    <tr>\n",
              "      <th>166827</th>\n",
              "      <td>Britax Boulevard 70-G3 Convertible Car Seat Se...</td>\n",
              "      <td>We just purchased this seat for our eight mont...</td>\n",
              "      <td>5</td>\n",
              "      <td>We just purchased this seat for our eight mont...</td>\n",
              "      <td>1</td>\n",
              "    </tr>\n",
              "    <tr>\n",
              "      <th>117528</th>\n",
              "      <td>Skip Hop Bento Diaper Tote Bag, Black</td>\n",
              "      <td>Summary of below: It's a great bag that fits a...</td>\n",
              "      <td>5</td>\n",
              "      <td>Summary of below: It's a great bag that fits a...</td>\n",
              "      <td>1</td>\n",
              "    </tr>\n",
              "    <tr>\n",
              "      <th>114796</th>\n",
              "      <td>Fisher-Price Cradle 'N Swing,  My Little Snuga...</td>\n",
              "      <td>My husband and I cannot state enough how much ...</td>\n",
              "      <td>5</td>\n",
              "      <td>My husband and I cannot state enough how much ...</td>\n",
              "      <td>1</td>\n",
              "    </tr>\n",
              "    <tr>\n",
              "      <th>14008</th>\n",
              "      <td>Stork Craft Beatrice Combo Tower Chest, White</td>\n",
              "      <td>I bought the tower despite the bad reviews and...</td>\n",
              "      <td>5</td>\n",
              "      <td>I bought the tower despite the bad reviews and...</td>\n",
              "      <td>1</td>\n",
              "    </tr>\n",
              "    <tr>\n",
              "      <th>147949</th>\n",
              "      <td>Baby Jogger City Mini GT Single Stroller, Shad...</td>\n",
              "      <td>Amazing, Love, Love, Love it !!! All 5 STARS a...</td>\n",
              "      <td>5</td>\n",
              "      <td>Amazing, Love, Love, Love it !!! All 5 STARS a...</td>\n",
              "      <td>1</td>\n",
              "    </tr>\n",
              "    <tr>\n",
              "      <th>91476</th>\n",
              "      <td>Dream On Me / Mia Moda  Atmosferra Stroller, Nero</td>\n",
              "      <td>I recently bought this to replace a Chicco Cor...</td>\n",
              "      <td>4</td>\n",
              "      <td>I recently bought this to replace a Chicco Cor...</td>\n",
              "      <td>1</td>\n",
              "    </tr>\n",
              "    <tr>\n",
              "      <th>165593</th>\n",
              "      <td>Ikea 36 Pcs Kalas Kids Plastic BPA Free Flatwa...</td>\n",
              "      <td>For the price this set is unbelievable- and tr...</td>\n",
              "      <td>5</td>\n",
              "      <td>For the price this set is unbelievable- and tr...</td>\n",
              "      <td>1</td>\n",
              "    </tr>\n",
              "    <tr>\n",
              "      <th>50315</th>\n",
              "      <td>P'Kolino Silly Soft Seating in Tias, Green</td>\n",
              "      <td>I've purchased both the P'Kolino Little Reader...</td>\n",
              "      <td>4</td>\n",
              "      <td>I've purchased both the P'Kolino Little Reader...</td>\n",
              "      <td>1</td>\n",
              "    </tr>\n",
              "    <tr>\n",
              "      <th>149002</th>\n",
              "      <td>The Original CJ's BuTTer (All Natural Mango Su...</td>\n",
              "      <td>I'm going to try to review the scents I've tri...</td>\n",
              "      <td>4</td>\n",
              "      <td>I'm going to try to review the scents I've tri...</td>\n",
              "      <td>1</td>\n",
              "    </tr>\n",
              "  </tbody>\n",
              "</table>\n",
              "</div>"
            ],
            "text/plain": [
              "                                                     name  ... sentiment\n",
              "168697  Graco FastAction Fold Jogger Click Connect Str...  ...         1\n",
              "100166  Infantino Wrap and Tie Baby Carrier, Black Blu...  ...         1\n",
              "87017     Baby Einstein Around The World Discovery Center  ...         1\n",
              "140816         Diono RadianRXT Convertible Car Seat, Plum  ...         1\n",
              "52631   Evenflo X Sport Plus Convenience Stroller - Ch...  ...         1\n",
              "119182  Roan Rocco Classic Pram Stroller 2-in-1 with B...  ...         1\n",
              "97325   Freemie Hands-Free Concealable Breast Pump Col...  ...         1\n",
              "66059        Evenflo 6 Pack Classic Glass Bottle, 4-Ounce  ...         1\n",
              "137034         Graco Pack 'n Play Element Playard - Flint  ...         1\n",
              "133651                  Britax 2012 B-Agile Stroller, Red  ...         1\n",
              "182089  Summer Infant Wide View Digital Color Video Mo...  ...         1\n",
              "166827  Britax Boulevard 70-G3 Convertible Car Seat Se...  ...         1\n",
              "117528              Skip Hop Bento Diaper Tote Bag, Black  ...         1\n",
              "114796  Fisher-Price Cradle 'N Swing,  My Little Snuga...  ...         1\n",
              "14008       Stork Craft Beatrice Combo Tower Chest, White  ...         1\n",
              "147949  Baby Jogger City Mini GT Single Stroller, Shad...  ...         1\n",
              "91476   Dream On Me / Mia Moda  Atmosferra Stroller, Nero  ...         1\n",
              "165593  Ikea 36 Pcs Kalas Kids Plastic BPA Free Flatwa...  ...         1\n",
              "50315          P'Kolino Silly Soft Seating in Tias, Green  ...         1\n",
              "149002  The Original CJ's BuTTer (All Natural Mango Su...  ...         1\n",
              "\n",
              "[20 rows x 5 columns]"
            ]
          },
          "metadata": {
            "tags": []
          },
          "execution_count": 43
        }
      ]
    },
    {
      "cell_type": "code",
      "metadata": {
        "colab": {
          "base_uri": "https://localhost:8080/",
          "height": 1000
        },
        "id": "pSa0u9St14rA",
        "outputId": "11aa3cd2-17ab-47f7-8d87-6d12f1f30f78"
      },
      "source": [
        "#20 most negative reviews\n",
        "negative_idx = np.argsort(test_scores)[:20]\n",
        "print (negative_idx)\n",
        "print (test_scores[negative_idx[0]])\n",
        "test_data.iloc[negative_idx]"
      ],
      "execution_count": 44,
      "outputs": [
        {
          "output_type": "stream",
          "text": [
            "[17069 28184  2931 21700 17122 30373  8818 17222 28120  1810 31928   205\n",
            " 13680 10814  9655 13751 14711 13939 17428 17034]\n",
            "-37.779838766263815\n"
          ],
          "name": "stdout"
        },
        {
          "output_type": "execute_result",
          "data": {
            "text/html": [
              "<div>\n",
              "<style scoped>\n",
              "    .dataframe tbody tr th:only-of-type {\n",
              "        vertical-align: middle;\n",
              "    }\n",
              "\n",
              "    .dataframe tbody tr th {\n",
              "        vertical-align: top;\n",
              "    }\n",
              "\n",
              "    .dataframe thead th {\n",
              "        text-align: right;\n",
              "    }\n",
              "</style>\n",
              "<table border=\"1\" class=\"dataframe\">\n",
              "  <thead>\n",
              "    <tr style=\"text-align: right;\">\n",
              "      <th></th>\n",
              "      <th>name</th>\n",
              "      <th>review</th>\n",
              "      <th>rating</th>\n",
              "      <th>review_clean</th>\n",
              "      <th>sentiment</th>\n",
              "    </tr>\n",
              "  </thead>\n",
              "  <tbody>\n",
              "    <tr>\n",
              "      <th>94560</th>\n",
              "      <td>The First Years True Choice P400 Premium Digit...</td>\n",
              "      <td>Note: we never installed batteries in these un...</td>\n",
              "      <td>1</td>\n",
              "      <td>Note: we never installed batteries in these un...</td>\n",
              "      <td>-1</td>\n",
              "    </tr>\n",
              "    <tr>\n",
              "      <th>155287</th>\n",
              "      <td>VTech Communications Safe &amp;amp; Sounds Full Co...</td>\n",
              "      <td>This is my second video monitoring system, the...</td>\n",
              "      <td>1</td>\n",
              "      <td>This is my second video monitoring system, the...</td>\n",
              "      <td>-1</td>\n",
              "    </tr>\n",
              "    <tr>\n",
              "      <th>16042</th>\n",
              "      <td>Fisher-Price Ocean Wonders Aquarium Bouncer</td>\n",
              "      <td>We have not had ANY luck with Fisher-Price pro...</td>\n",
              "      <td>2</td>\n",
              "      <td>We have not had ANY luck with Fisher-Price pro...</td>\n",
              "      <td>-1</td>\n",
              "    </tr>\n",
              "    <tr>\n",
              "      <th>120209</th>\n",
              "      <td>Levana Safe N'See Digital Video Baby Monitor w...</td>\n",
              "      <td>This is the first review I have ever written o...</td>\n",
              "      <td>1</td>\n",
              "      <td>This is the first review I have ever written o...</td>\n",
              "      <td>-1</td>\n",
              "    </tr>\n",
              "    <tr>\n",
              "      <th>94815</th>\n",
              "      <td>Stork Craft Heather Dressing Table with Drawer...</td>\n",
              "      <td>The construction is simply terrible, and not f...</td>\n",
              "      <td>2</td>\n",
              "      <td>The construction is simply terrible, and not f...</td>\n",
              "      <td>-1</td>\n",
              "    </tr>\n",
              "    <tr>\n",
              "      <th>167249</th>\n",
              "      <td>Samsung SEW-3037W Wireless Pan Tilt Video Baby...</td>\n",
              "      <td>Reviewers. You failed me!This thing worked for...</td>\n",
              "      <td>1</td>\n",
              "      <td>Reviewers. You failed me!This thing worked for...</td>\n",
              "      <td>-1</td>\n",
              "    </tr>\n",
              "    <tr>\n",
              "      <th>48694</th>\n",
              "      <td>Adiri BPA Free Natural Nurser Ultimate Bottle ...</td>\n",
              "      <td>I will try to write an objective review of the...</td>\n",
              "      <td>2</td>\n",
              "      <td>I will try to write an objective review of the...</td>\n",
              "      <td>-1</td>\n",
              "    </tr>\n",
              "    <tr>\n",
              "      <th>95420</th>\n",
              "      <td>One Step Ahead Hide-Away Extra Long Bed Rail</td>\n",
              "      <td>I bought a brand new 56\" hide-away bed safety ...</td>\n",
              "      <td>1</td>\n",
              "      <td>I bought a brand new 56\" hide-away bed safety ...</td>\n",
              "      <td>-1</td>\n",
              "    </tr>\n",
              "    <tr>\n",
              "      <th>154878</th>\n",
              "      <td>VTech Communications Safe &amp;amp; Sound Digital ...</td>\n",
              "      <td>First, the distance on these are no more than ...</td>\n",
              "      <td>1</td>\n",
              "      <td>First, the distance on these are no more than ...</td>\n",
              "      <td>-1</td>\n",
              "    </tr>\n",
              "    <tr>\n",
              "      <th>9915</th>\n",
              "      <td>Cosco Alpha Omega Elite Convertible Car Seat</td>\n",
              "      <td>I bought this car seat after both seeing  the ...</td>\n",
              "      <td>1</td>\n",
              "      <td>I bought this car seat after both seeing  the ...</td>\n",
              "      <td>-1</td>\n",
              "    </tr>\n",
              "    <tr>\n",
              "      <th>176046</th>\n",
              "      <td>Baby Trend Inertia Infant Car Seat - Horizon</td>\n",
              "      <td>I really wanted to love this seat; however, I ...</td>\n",
              "      <td>1</td>\n",
              "      <td>I really wanted to love this seat; however, I ...</td>\n",
              "      <td>-1</td>\n",
              "    </tr>\n",
              "    <tr>\n",
              "      <th>1116</th>\n",
              "      <td>Safety 1st Deluxe 4-in-1 Bath Station</td>\n",
              "      <td>This item is junk.  I originally chose it beca...</td>\n",
              "      <td>1</td>\n",
              "      <td>This item is junk.  I originally chose it beca...</td>\n",
              "      <td>-1</td>\n",
              "    </tr>\n",
              "    <tr>\n",
              "      <th>75665</th>\n",
              "      <td>Prince Lionheart Premium Wipe Warmer</td>\n",
              "      <td>PLEASE DO NOT BUY THIS WIPE WARMER. It is a FI...</td>\n",
              "      <td>1</td>\n",
              "      <td>PLEASE DO NOT BUY THIS WIPE WARMER. It is a FI...</td>\n",
              "      <td>-1</td>\n",
              "    </tr>\n",
              "    <tr>\n",
              "      <th>59546</th>\n",
              "      <td>Ellaroo Mei Tai Baby Carrier - Hershey</td>\n",
              "      <td>This is basically an overpriced piece of fabri...</td>\n",
              "      <td>1</td>\n",
              "      <td>This is basically an overpriced piece of fabri...</td>\n",
              "      <td>-1</td>\n",
              "    </tr>\n",
              "    <tr>\n",
              "      <th>53207</th>\n",
              "      <td>Safety 1st High-Def Digital Monitor</td>\n",
              "      <td>We bought this baby monitor to replace a diffe...</td>\n",
              "      <td>1</td>\n",
              "      <td>We bought this baby monitor to replace a diffe...</td>\n",
              "      <td>-1</td>\n",
              "    </tr>\n",
              "    <tr>\n",
              "      <th>75994</th>\n",
              "      <td>Peg-Perego Tatamia High Chair, White Latte</td>\n",
              "      <td>I can see why there are so many good reviews o...</td>\n",
              "      <td>2</td>\n",
              "      <td>I can see why there are so many good reviews o...</td>\n",
              "      <td>-1</td>\n",
              "    </tr>\n",
              "    <tr>\n",
              "      <th>81332</th>\n",
              "      <td>Cloth Diaper Sprayer--styles may vary</td>\n",
              "      <td>I bought this sprayer out of desperation durin...</td>\n",
              "      <td>1</td>\n",
              "      <td>I bought this sprayer out of desperation durin...</td>\n",
              "      <td>-1</td>\n",
              "    </tr>\n",
              "    <tr>\n",
              "      <th>77072</th>\n",
              "      <td>Safety 1st Exchangeable Tip 3 in 1 Thermometer</td>\n",
              "      <td>I thought it sounded great to have different t...</td>\n",
              "      <td>1</td>\n",
              "      <td>I thought it sounded great to have different t...</td>\n",
              "      <td>-1</td>\n",
              "    </tr>\n",
              "    <tr>\n",
              "      <th>96572</th>\n",
              "      <td>Baby Jogger Summit XC Double Stroller, Red/Black</td>\n",
              "      <td>Received Jogger as a shower gift so it sat in ...</td>\n",
              "      <td>1</td>\n",
              "      <td>Received Jogger as a shower gift so it sat in ...</td>\n",
              "      <td>-1</td>\n",
              "    </tr>\n",
              "    <tr>\n",
              "      <th>94389</th>\n",
              "      <td>Snuza Portable Baby Movement Monitor</td>\n",
              "      <td>I would have given the product 4 stars for whi...</td>\n",
              "      <td>1</td>\n",
              "      <td>I would have given the product 4 stars for whi...</td>\n",
              "      <td>-1</td>\n",
              "    </tr>\n",
              "  </tbody>\n",
              "</table>\n",
              "</div>"
            ],
            "text/plain": [
              "                                                     name  ... sentiment\n",
              "94560   The First Years True Choice P400 Premium Digit...  ...        -1\n",
              "155287  VTech Communications Safe &amp; Sounds Full Co...  ...        -1\n",
              "16042         Fisher-Price Ocean Wonders Aquarium Bouncer  ...        -1\n",
              "120209  Levana Safe N'See Digital Video Baby Monitor w...  ...        -1\n",
              "94815   Stork Craft Heather Dressing Table with Drawer...  ...        -1\n",
              "167249  Samsung SEW-3037W Wireless Pan Tilt Video Baby...  ...        -1\n",
              "48694   Adiri BPA Free Natural Nurser Ultimate Bottle ...  ...        -1\n",
              "95420        One Step Ahead Hide-Away Extra Long Bed Rail  ...        -1\n",
              "154878  VTech Communications Safe &amp; Sound Digital ...  ...        -1\n",
              "9915         Cosco Alpha Omega Elite Convertible Car Seat  ...        -1\n",
              "176046       Baby Trend Inertia Infant Car Seat - Horizon  ...        -1\n",
              "1116                Safety 1st Deluxe 4-in-1 Bath Station  ...        -1\n",
              "75665                Prince Lionheart Premium Wipe Warmer  ...        -1\n",
              "59546              Ellaroo Mei Tai Baby Carrier - Hershey  ...        -1\n",
              "53207                 Safety 1st High-Def Digital Monitor  ...        -1\n",
              "75994          Peg-Perego Tatamia High Chair, White Latte  ...        -1\n",
              "81332               Cloth Diaper Sprayer--styles may vary  ...        -1\n",
              "77072      Safety 1st Exchangeable Tip 3 in 1 Thermometer  ...        -1\n",
              "96572    Baby Jogger Summit XC Double Stroller, Red/Black  ...        -1\n",
              "94389                Snuza Portable Baby Movement Monitor  ...        -1\n",
              "\n",
              "[20 rows x 5 columns]"
            ]
          },
          "metadata": {
            "tags": []
          },
          "execution_count": 44
        }
      ]
    },
    {
      "cell_type": "markdown",
      "metadata": {
        "id": "Djz09-v92Kg4"
      },
      "source": [
        "Accuracy of the classifier"
      ]
    },
    {
      "cell_type": "code",
      "metadata": {
        "colab": {
          "base_uri": "https://localhost:8080/"
        },
        "id": "IlUXnAYI2M_m",
        "outputId": "35c57125-3326-478a-e280-822b1ea5ba1e"
      },
      "source": [
        "predicted_y = sentiment_model.predict(test_matrix)\n",
        "correct_num = np.sum(predicted_y == test_data['sentiment'])\n",
        "total_num = len(test_data['sentiment'])\n",
        "print (\"correct_num: {}, total_num: {}\".format(correct_num, total_num))\n",
        "accuracy = correct_num * 1./ total_num\n",
        "print (accuracy)"
      ],
      "execution_count": 46,
      "outputs": [
        {
          "output_type": "stream",
          "text": [
            "correct_num: 31082, total_num: 33336\n",
            "0.9323854091672666\n"
          ],
          "name": "stdout"
        }
      ]
    },
    {
      "cell_type": "markdown",
      "metadata": {
        "id": "pZSa6wXs2e9L"
      },
      "source": [
        "Learn another classifier with fewer words"
      ]
    },
    {
      "cell_type": "code",
      "metadata": {
        "id": "jGparFLb2f9l"
      },
      "source": [
        "significant_words = ['love', 'great', 'easy', 'old', 'little', 'perfect', 'loves', \n",
        "      'well', 'able', 'car', 'broke', 'less', 'even', 'waste', 'disappointed', \n",
        "      'work', 'product', 'money', 'would', 'return']"
      ],
      "execution_count": 47,
      "outputs": []
    },
    {
      "cell_type": "code",
      "metadata": {
        "id": "P47HQ-qF2kUl"
      },
      "source": [
        "vectorizer_word_subset = CountVectorizer(vocabulary=significant_words) # limit to 20 words\n",
        "train_matrix_word_subset = vectorizer_word_subset.fit_transform(train_data['review_clean'])\n",
        "test_matrix_word_subset = vectorizer_word_subset.transform(test_data['review_clean'])"
      ],
      "execution_count": 48,
      "outputs": []
    },
    {
      "cell_type": "markdown",
      "metadata": {
        "id": "tpZ-kAxu2vch"
      },
      "source": [
        "Train a logistic regression model on a subset of data"
      ]
    },
    {
      "cell_type": "code",
      "metadata": {
        "colab": {
          "base_uri": "https://localhost:8080/"
        },
        "id": "1LQSBrrj2rSz",
        "outputId": "7e4c4974-2fc4-4189-b42a-a51b40169b6f"
      },
      "source": [
        "simple_model = LogisticRegression()\n",
        "simple_model.fit(train_matrix_word_subset, train_data['sentiment'])"
      ],
      "execution_count": 49,
      "outputs": [
        {
          "output_type": "execute_result",
          "data": {
            "text/plain": [
              "LogisticRegression(C=1.0, class_weight=None, dual=False, fit_intercept=True,\n",
              "                   intercept_scaling=1, l1_ratio=None, max_iter=100,\n",
              "                   multi_class='auto', n_jobs=None, penalty='l2',\n",
              "                   random_state=None, solver='lbfgs', tol=0.0001, verbose=0,\n",
              "                   warm_start=False)"
            ]
          },
          "metadata": {
            "tags": []
          },
          "execution_count": 49
        }
      ]
    },
    {
      "cell_type": "code",
      "metadata": {
        "colab": {
          "base_uri": "https://localhost:8080/",
          "height": 669
        },
        "id": "wXMku1d42zJ7",
        "outputId": "478ac194-8e82-476f-c343-49e36dc0e5b0"
      },
      "source": [
        "simple_model_coef_table = pd.DataFrame({'word':significant_words,\n",
        "                                         'coefficient':simple_model.coef_.flatten()})\n",
        "#simple_model_coef_table\n",
        "simple_model_coef_table.sort_values(['coefficient'], ascending=False)"
      ],
      "execution_count": 50,
      "outputs": [
        {
          "output_type": "execute_result",
          "data": {
            "text/html": [
              "<div>\n",
              "<style scoped>\n",
              "    .dataframe tbody tr th:only-of-type {\n",
              "        vertical-align: middle;\n",
              "    }\n",
              "\n",
              "    .dataframe tbody tr th {\n",
              "        vertical-align: top;\n",
              "    }\n",
              "\n",
              "    .dataframe thead th {\n",
              "        text-align: right;\n",
              "    }\n",
              "</style>\n",
              "<table border=\"1\" class=\"dataframe\">\n",
              "  <thead>\n",
              "    <tr style=\"text-align: right;\">\n",
              "      <th></th>\n",
              "      <th>word</th>\n",
              "      <th>coefficient</th>\n",
              "    </tr>\n",
              "  </thead>\n",
              "  <tbody>\n",
              "    <tr>\n",
              "      <th>6</th>\n",
              "      <td>loves</td>\n",
              "      <td>1.677511</td>\n",
              "    </tr>\n",
              "    <tr>\n",
              "      <th>5</th>\n",
              "      <td>perfect</td>\n",
              "      <td>1.506779</td>\n",
              "    </tr>\n",
              "    <tr>\n",
              "      <th>0</th>\n",
              "      <td>love</td>\n",
              "      <td>1.356381</td>\n",
              "    </tr>\n",
              "    <tr>\n",
              "      <th>2</th>\n",
              "      <td>easy</td>\n",
              "      <td>1.183212</td>\n",
              "    </tr>\n",
              "    <tr>\n",
              "      <th>1</th>\n",
              "      <td>great</td>\n",
              "      <td>0.943456</td>\n",
              "    </tr>\n",
              "    <tr>\n",
              "      <th>7</th>\n",
              "      <td>well</td>\n",
              "      <td>0.530037</td>\n",
              "    </tr>\n",
              "    <tr>\n",
              "      <th>4</th>\n",
              "      <td>little</td>\n",
              "      <td>0.514496</td>\n",
              "    </tr>\n",
              "    <tr>\n",
              "      <th>8</th>\n",
              "      <td>able</td>\n",
              "      <td>0.193097</td>\n",
              "    </tr>\n",
              "    <tr>\n",
              "      <th>3</th>\n",
              "      <td>old</td>\n",
              "      <td>0.082757</td>\n",
              "    </tr>\n",
              "    <tr>\n",
              "      <th>9</th>\n",
              "      <td>car</td>\n",
              "      <td>0.056485</td>\n",
              "    </tr>\n",
              "    <tr>\n",
              "      <th>11</th>\n",
              "      <td>less</td>\n",
              "      <td>-0.201650</td>\n",
              "    </tr>\n",
              "    <tr>\n",
              "      <th>16</th>\n",
              "      <td>product</td>\n",
              "      <td>-0.326744</td>\n",
              "    </tr>\n",
              "    <tr>\n",
              "      <th>18</th>\n",
              "      <td>would</td>\n",
              "      <td>-0.363293</td>\n",
              "    </tr>\n",
              "    <tr>\n",
              "      <th>12</th>\n",
              "      <td>even</td>\n",
              "      <td>-0.509717</td>\n",
              "    </tr>\n",
              "    <tr>\n",
              "      <th>15</th>\n",
              "      <td>work</td>\n",
              "      <td>-0.623687</td>\n",
              "    </tr>\n",
              "    <tr>\n",
              "      <th>17</th>\n",
              "      <td>money</td>\n",
              "      <td>-0.869518</td>\n",
              "    </tr>\n",
              "    <tr>\n",
              "      <th>10</th>\n",
              "      <td>broke</td>\n",
              "      <td>-1.642254</td>\n",
              "    </tr>\n",
              "    <tr>\n",
              "      <th>13</th>\n",
              "      <td>waste</td>\n",
              "      <td>-2.026955</td>\n",
              "    </tr>\n",
              "    <tr>\n",
              "      <th>19</th>\n",
              "      <td>return</td>\n",
              "      <td>-2.110821</td>\n",
              "    </tr>\n",
              "    <tr>\n",
              "      <th>14</th>\n",
              "      <td>disappointed</td>\n",
              "      <td>-2.350690</td>\n",
              "    </tr>\n",
              "  </tbody>\n",
              "</table>\n",
              "</div>"
            ],
            "text/plain": [
              "            word  coefficient\n",
              "6          loves     1.677511\n",
              "5        perfect     1.506779\n",
              "0           love     1.356381\n",
              "2           easy     1.183212\n",
              "1          great     0.943456\n",
              "7           well     0.530037\n",
              "4         little     0.514496\n",
              "8           able     0.193097\n",
              "3            old     0.082757\n",
              "9            car     0.056485\n",
              "11          less    -0.201650\n",
              "16       product    -0.326744\n",
              "18         would    -0.363293\n",
              "12          even    -0.509717\n",
              "15          work    -0.623687\n",
              "17         money    -0.869518\n",
              "10         broke    -1.642254\n",
              "13         waste    -2.026955\n",
              "19        return    -2.110821\n",
              "14  disappointed    -2.350690"
            ]
          },
          "metadata": {
            "tags": []
          },
          "execution_count": 50
        }
      ]
    },
    {
      "cell_type": "code",
      "metadata": {
        "colab": {
          "base_uri": "https://localhost:8080/"
        },
        "id": "tMUPwCxL26Dr",
        "outputId": "fcbec2d7-fe96-4553-c6e5-ce4dceee9316"
      },
      "source": [
        "len(simple_model_coef_table[simple_model_coef_table['coefficient']>0])"
      ],
      "execution_count": 51,
      "outputs": [
        {
          "output_type": "execute_result",
          "data": {
            "text/plain": [
              "10"
            ]
          },
          "metadata": {
            "tags": []
          },
          "execution_count": 51
        }
      ]
    },
    {
      "cell_type": "code",
      "metadata": {
        "colab": {
          "base_uri": "https://localhost:8080/",
          "height": 669
        },
        "id": "A71oJ__d2-pO",
        "outputId": "c2fdc331-fc23-4b1b-ce71-ee3c74590146"
      },
      "source": [
        "model_coef_table = pd.DataFrame({'word':significant_words,\n",
        "                                         'coefficient':simple_model.coef_.flatten()})\n",
        "#simple_model_coef_table\n",
        "simple_model_coef_table.sort_values(['coefficient'], ascending=False)"
      ],
      "execution_count": 52,
      "outputs": [
        {
          "output_type": "execute_result",
          "data": {
            "text/html": [
              "<div>\n",
              "<style scoped>\n",
              "    .dataframe tbody tr th:only-of-type {\n",
              "        vertical-align: middle;\n",
              "    }\n",
              "\n",
              "    .dataframe tbody tr th {\n",
              "        vertical-align: top;\n",
              "    }\n",
              "\n",
              "    .dataframe thead th {\n",
              "        text-align: right;\n",
              "    }\n",
              "</style>\n",
              "<table border=\"1\" class=\"dataframe\">\n",
              "  <thead>\n",
              "    <tr style=\"text-align: right;\">\n",
              "      <th></th>\n",
              "      <th>word</th>\n",
              "      <th>coefficient</th>\n",
              "    </tr>\n",
              "  </thead>\n",
              "  <tbody>\n",
              "    <tr>\n",
              "      <th>6</th>\n",
              "      <td>loves</td>\n",
              "      <td>1.677511</td>\n",
              "    </tr>\n",
              "    <tr>\n",
              "      <th>5</th>\n",
              "      <td>perfect</td>\n",
              "      <td>1.506779</td>\n",
              "    </tr>\n",
              "    <tr>\n",
              "      <th>0</th>\n",
              "      <td>love</td>\n",
              "      <td>1.356381</td>\n",
              "    </tr>\n",
              "    <tr>\n",
              "      <th>2</th>\n",
              "      <td>easy</td>\n",
              "      <td>1.183212</td>\n",
              "    </tr>\n",
              "    <tr>\n",
              "      <th>1</th>\n",
              "      <td>great</td>\n",
              "      <td>0.943456</td>\n",
              "    </tr>\n",
              "    <tr>\n",
              "      <th>7</th>\n",
              "      <td>well</td>\n",
              "      <td>0.530037</td>\n",
              "    </tr>\n",
              "    <tr>\n",
              "      <th>4</th>\n",
              "      <td>little</td>\n",
              "      <td>0.514496</td>\n",
              "    </tr>\n",
              "    <tr>\n",
              "      <th>8</th>\n",
              "      <td>able</td>\n",
              "      <td>0.193097</td>\n",
              "    </tr>\n",
              "    <tr>\n",
              "      <th>3</th>\n",
              "      <td>old</td>\n",
              "      <td>0.082757</td>\n",
              "    </tr>\n",
              "    <tr>\n",
              "      <th>9</th>\n",
              "      <td>car</td>\n",
              "      <td>0.056485</td>\n",
              "    </tr>\n",
              "    <tr>\n",
              "      <th>11</th>\n",
              "      <td>less</td>\n",
              "      <td>-0.201650</td>\n",
              "    </tr>\n",
              "    <tr>\n",
              "      <th>16</th>\n",
              "      <td>product</td>\n",
              "      <td>-0.326744</td>\n",
              "    </tr>\n",
              "    <tr>\n",
              "      <th>18</th>\n",
              "      <td>would</td>\n",
              "      <td>-0.363293</td>\n",
              "    </tr>\n",
              "    <tr>\n",
              "      <th>12</th>\n",
              "      <td>even</td>\n",
              "      <td>-0.509717</td>\n",
              "    </tr>\n",
              "    <tr>\n",
              "      <th>15</th>\n",
              "      <td>work</td>\n",
              "      <td>-0.623687</td>\n",
              "    </tr>\n",
              "    <tr>\n",
              "      <th>17</th>\n",
              "      <td>money</td>\n",
              "      <td>-0.869518</td>\n",
              "    </tr>\n",
              "    <tr>\n",
              "      <th>10</th>\n",
              "      <td>broke</td>\n",
              "      <td>-1.642254</td>\n",
              "    </tr>\n",
              "    <tr>\n",
              "      <th>13</th>\n",
              "      <td>waste</td>\n",
              "      <td>-2.026955</td>\n",
              "    </tr>\n",
              "    <tr>\n",
              "      <th>19</th>\n",
              "      <td>return</td>\n",
              "      <td>-2.110821</td>\n",
              "    </tr>\n",
              "    <tr>\n",
              "      <th>14</th>\n",
              "      <td>disappointed</td>\n",
              "      <td>-2.350690</td>\n",
              "    </tr>\n",
              "  </tbody>\n",
              "</table>\n",
              "</div>"
            ],
            "text/plain": [
              "            word  coefficient\n",
              "6          loves     1.677511\n",
              "5        perfect     1.506779\n",
              "0           love     1.356381\n",
              "2           easy     1.183212\n",
              "1          great     0.943456\n",
              "7           well     0.530037\n",
              "4         little     0.514496\n",
              "8           able     0.193097\n",
              "3            old     0.082757\n",
              "9            car     0.056485\n",
              "11          less    -0.201650\n",
              "16       product    -0.326744\n",
              "18         would    -0.363293\n",
              "12          even    -0.509717\n",
              "15          work    -0.623687\n",
              "17         money    -0.869518\n",
              "10         broke    -1.642254\n",
              "13         waste    -2.026955\n",
              "19        return    -2.110821\n",
              "14  disappointed    -2.350690"
            ]
          },
          "metadata": {
            "tags": []
          },
          "execution_count": 52
        }
      ]
    },
    {
      "cell_type": "code",
      "metadata": {
        "colab": {
          "base_uri": "https://localhost:8080/"
        },
        "id": "Ey2YeI8B3EjJ",
        "outputId": "8880d17f-8853-4f99-8597-5ebaf78fcd02"
      },
      "source": [
        "vectorizer_word_subset.get_feature_names()"
      ],
      "execution_count": 53,
      "outputs": [
        {
          "output_type": "execute_result",
          "data": {
            "text/plain": [
              "['love',\n",
              " 'great',\n",
              " 'easy',\n",
              " 'old',\n",
              " 'little',\n",
              " 'perfect',\n",
              " 'loves',\n",
              " 'well',\n",
              " 'able',\n",
              " 'car',\n",
              " 'broke',\n",
              " 'less',\n",
              " 'even',\n",
              " 'waste',\n",
              " 'disappointed',\n",
              " 'work',\n",
              " 'product',\n",
              " 'money',\n",
              " 'would',\n",
              " 'return']"
            ]
          },
          "metadata": {
            "tags": []
          },
          "execution_count": 53
        }
      ]
    },
    {
      "cell_type": "markdown",
      "metadata": {
        "id": "H4uW-RzT3PWM"
      },
      "source": [
        "Comparing models"
      ]
    },
    {
      "cell_type": "code",
      "metadata": {
        "colab": {
          "base_uri": "https://localhost:8080/"
        },
        "id": "ZO2yPQRs3K2k",
        "outputId": "acc1afd1-621c-4469-d6ef-45fdfda82f6c"
      },
      "source": [
        "train_predicted_y = sentiment_model.predict(train_matrix)\n",
        "correct_num = np.sum(train_predicted_y == train_data['sentiment'])\n",
        "total_num = len(train_data['sentiment'])\n",
        "print (\"correct_num: {}, total_num: {}\".format(correct_num, total_num))\n",
        "train_accuracy = correct_num * 1./ total_num\n",
        "print (\"sentiment_model training accuracy: {}\".format(train_accuracy))\n",
        "\n",
        "train_predicted_y = simple_model.predict(train_matrix_word_subset)\n",
        "correct_num = np.sum(train_predicted_y == train_data['sentiment'])\n",
        "total_num = len(train_data['sentiment'])\n",
        "print (\"correct_num: {}, total_num: {}\".format(correct_num, total_num))\n",
        "train_accuracy = correct_num * 1./ total_num\n",
        "print (\"simple_model training accuracy: {}\".format(train_accuracy))"
      ],
      "execution_count": 54,
      "outputs": [
        {
          "output_type": "stream",
          "text": [
            "correct_num: 126305, total_num: 133416\n",
            "sentiment_model training accuracy: 0.9467005456616897\n",
            "correct_num: 115702, total_num: 133416\n",
            "simple_model training accuracy: 0.8672273190621814\n"
          ],
          "name": "stdout"
        }
      ]
    },
    {
      "cell_type": "code",
      "metadata": {
        "colab": {
          "base_uri": "https://localhost:8080/"
        },
        "id": "5Twh32eI3cAL",
        "outputId": "b0c9f02b-c965-469c-d75b-e6b3b8f076e6"
      },
      "source": [
        "test_predicted_y = sentiment_model.predict(test_matrix)\n",
        "correct_num = np.sum(test_predicted_y == test_data['sentiment'])\n",
        "total_num = len(test_data['sentiment'])\n",
        "print (\"correct_num: {}, total_num: {}\".format(correct_num, total_num))\n",
        "test_accuracy = correct_num * 1./ total_num\n",
        "print (\"sentiment_model test accuracy: {}\".format(test_accuracy))\n",
        "\n",
        "test_predicted_y = simple_model.predict(test_matrix_word_subset)\n",
        "correct_num = np.sum(test_predicted_y == test_data['sentiment'])\n",
        "total_num = len(test_data['sentiment'])\n",
        "print (\"correct_num: {}, total_num: {}\".format(correct_num, total_num))\n",
        "test_accuracy = correct_num * 1./ total_num\n",
        "print (\"simple_model test accuracy: {}\".format(test_accuracy))"
      ],
      "execution_count": 55,
      "outputs": [
        {
          "output_type": "stream",
          "text": [
            "correct_num: 31082, total_num: 33336\n",
            "sentiment_model test accuracy: 0.9323854091672666\n",
            "correct_num: 29009, total_num: 33336\n",
            "simple_model test accuracy: 0.8702003839692825\n"
          ],
          "name": "stdout"
        }
      ]
    },
    {
      "cell_type": "code",
      "metadata": {
        "colab": {
          "base_uri": "https://localhost:8080/"
        },
        "id": "2Ryf_QXj3q9E",
        "outputId": "e92e4ede-3b7c-44b1-bff0-7d3ae464c84a"
      },
      "source": [
        "positive_label = len(test_data[test_data['sentiment']>0])\n",
        "negative_label = len(test_data[test_data['sentiment']<0])\n",
        "print (\"positive_label is {}, negative_label is {}\".format(positive_label, negative_label))"
      ],
      "execution_count": 57,
      "outputs": [
        {
          "output_type": "stream",
          "text": [
            "positive_label is 28095, negative_label is 5241\n"
          ],
          "name": "stdout"
        }
      ]
    },
    {
      "cell_type": "code",
      "metadata": {
        "colab": {
          "base_uri": "https://localhost:8080/"
        },
        "id": "Z3kakjdc30xO",
        "outputId": "b324e632-4336-4861-9e75-926b777ea771"
      },
      "source": [
        "baseline_accuracy = positive_label*1./(positive_label+negative_label)\n",
        "print (\"baseline_accuracy is {}\".format(baseline_accuracy))"
      ],
      "execution_count": 59,
      "outputs": [
        {
          "output_type": "stream",
          "text": [
            "baseline_accuracy is 0.8427825773938085\n"
          ],
          "name": "stdout"
        }
      ]
    }
  ]
}